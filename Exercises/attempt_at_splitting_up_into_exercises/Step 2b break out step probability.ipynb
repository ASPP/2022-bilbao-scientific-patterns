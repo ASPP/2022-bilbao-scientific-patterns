{
 "cells": [
  {
   "cell_type": "code",
   "execution_count": 4,
   "outputs": [],
   "source": [
    "%matplotlib inline\n",
    "\n",
    "import matplotlib.pyplot as plt\n",
    "import numpy as np"
   ],
   "metadata": {
    "collapsed": false,
    "pycharm": {
     "name": "#%%\n"
    }
   }
  },
  {
   "cell_type": "code",
   "execution_count": 35,
   "outputs": [
    {
     "data": {
      "text/plain": "<matplotlib.colorbar.Colorbar at 0x7f84f1d79a90>"
     },
     "execution_count": 35,
     "metadata": {},
     "output_type": "execute_result"
    },
    {
     "data": {
      "text/plain": "<Figure size 288x288 with 2 Axes>",
      "image/png": "[encoded data removed]"
     },
     "metadata": {},
     "output_type": "display_data"
    }
   ],
   "source": [
    "def next_step_probability(current_i, current_j, sigma_large, sigma_small, size):\n",
    "    grid_ii, grid_jj = np.mgrid[0:size, 0:size]\n",
    "    rad = (\n",
    "        (((grid_ii - current_i) ** 2) / (sigma_large ** 2))\n",
    "        + (((grid_jj - current_j) ** 2)/ (sigma_large ** 2))\n",
    "    )\n",
    "    large = np.exp(-(rad / 2.0)) / (2.0 * np.pi * sigma_large * sigma_large)\n",
    "    rad = (\n",
    "        (((grid_ii - current_i) ** 2) / (sigma_small ** 2))\n",
    "        + (((grid_jj - current_j) ** 2)/ (sigma_small ** 2))\n",
    "    )\n",
    "    small = np.exp(-(rad / 2.0)) / (2.0 * np.pi * sigma_small * sigma_small)\n",
    "    p_next_step = large - 0.2 * small\n",
    "    return p_next_step / p_next_step.sum()\n",
    "\n",
    "p = next_step_probability(100, 50, 4, 2, 200)\n",
    "plt.matshow(p)\n",
    "plt.colorbar()"
   ],
   "metadata": {
    "collapsed": false,
    "pycharm": {
     "name": "#%%\n"
    }
   }
  },
  {
   "cell_type": "code",
   "execution_count": 32,
   "outputs": [],
   "source": [
    "# ... let's say we want to have a ring-shaped next step distribution\n",
    "\n",
    "# The Walker class has less parameters!\n",
    "# its responsibilities are clearer\n",
    "# now serialization is going to be harder\n",
    "\n",
    "# smells that remain\n",
    "# need to do the bookkeeping for i, j in case you want to create / simulate entire trajectories\n",
    "\n",
    "\n",
    "def flat_activation_map_initializer(size):\n",
    "    return np.ones((size, size))\n",
    "\n",
    "\n",
    "def hills_activation_map_initializer(size):\n",
    "    grid_ii, grid_jj = np.mgrid[0:size, 0:size]\n",
    "    i_waves = np.sin(grid_ii/130) + np.sin(grid_ii/10)\n",
    "    i_waves /= i_waves.max()\n",
    "    j_waves = np.sin(grid_jj/100) + np.sin(grid_jj/50)+ np.sin(grid_jj/10)\n",
    "    j_waves /= j_waves.max()\n",
    "    activation_map = j_waves + i_waves\n",
    "    return activation_map\n",
    "\n",
    "\n",
    "def labyrinth_activation_map_initializer(size):\n",
    "    activation_map = np.ones((size, size))\n",
    "    activation_map[50:100, 50:60] = 0\n",
    "    activation_map[20:89, 80:90] = 0\n",
    "    activation_map[90:120, 0:10] = 0\n",
    "    activation_map[120:size, 30:40] = 0\n",
    "    activation_map[180:190, 50:60] = 0\n",
    "\n",
    "    activation_map[50:60, 50:200] = 0\n",
    "    activation_map[179:189, 80:130] = 0\n",
    "    activation_map[110:120, 0:190] = 0\n",
    "    activation_map[120:size, 30:40] = 0\n",
    "    activation_map[180:190, 50:60] = 0\n",
    "\n",
    "    return activation_map\n",
    "\n",
    "\n",
    "class GaussianNextStepBuilder:\n",
    "    def __init__(self, size, sigma_i, sigma_j):\n",
    "        self.sigma_i = sigma_i\n",
    "        self.sigma_j = sigma_j\n",
    "        self.size = size\n",
    "        self._grid_ii, self._grid_jj = np.mgrid[0:size, 0:size]\n",
    "\n",
    "    def next_step_probability(self, current_i, current_j):\n",
    "        grid_ii, grid_jj = self._grid_ii, self._grid_jj\n",
    "        sigma_i, sigma_j = self.sigma_i, self.sigma_j\n",
    "\n",
    "        rad = (\n",
    "            (((grid_ii - current_i) ** 2) / (sigma_i ** 2))\n",
    "            + (((grid_jj - current_j) ** 2)/ (sigma_j ** 2))\n",
    "        )\n",
    "\n",
    "        p_next_step = np.exp(-(rad / 2.0)) / (2.0 * np.pi * sigma_i * sigma_j)\n",
    "        return p_next_step / p_next_step.sum()\n",
    "\n",
    "\n",
    "class RingNextStepBuilder:\n",
    "    def __init__(self, size, sigma_large, sigma_small):\n",
    "        self.sigma_large = sigma_large\n",
    "        self.sigma_small = sigma_small\n",
    "        self.size = size\n",
    "        self._grid_ii, self._grid_jj = np.mgrid[0:size, 0:size]\n",
    "\n",
    "    def next_step_probability(self, current_i, current_j):\n",
    "        grid_ii, grid_jj = self._grid_ii, self._grid_jj\n",
    "        sigma_large, sigma_small = self.sigma_large, self.sigma_small\n",
    "        rad = (\n",
    "            (((grid_ii - current_i) ** 2) / (sigma_large ** 2))\n",
    "            + (((grid_jj - current_j) ** 2)/ (sigma_large ** 2))\n",
    "        )\n",
    "        large = np.exp(-(rad / 2.0)) / (2.0 * np.pi * sigma_large * sigma_large)\n",
    "        rad = (\n",
    "            (((grid_ii - current_i) ** 2) / (sigma_small ** 2))\n",
    "            + (((grid_jj - current_j) ** 2)/ (sigma_small ** 2))\n",
    "        )\n",
    "        small = np.exp(-(rad / 2.0)) / (2.0 * np.pi * sigma_small * sigma_small)\n",
    "        p_next_step = large - 0.2 * small\n",
    "        return p_next_step / p_next_step.sum()\n",
    "\n",
    "\n",
    "class Walker:\n",
    "\n",
    "    def __init__(self, size, activation_map, probability_map_builder):\n",
    "        self.size = size\n",
    "        self.activation_map = activation_map\n",
    "        self.probability_map_builder = probability_map_builder\n",
    "\n",
    "    @classmethod\n",
    "    def from_activation_map_initializer(cls, size, initializer, probability_map_builder):\n",
    "        activation_map = initializer(size)\n",
    "        activation_map /= activation_map.sum()\n",
    "        return cls(size, activation_map, probability_map_builder)\n",
    "\n",
    "    def _compute_selection_map(self, next_step_map):\n",
    "        selection_map = next_step_map * self.activation_map\n",
    "        selection_map /= selection_map.sum()\n",
    "        return selection_map\n",
    "\n",
    "    def sample_next_step(self, current_i, current_j, random_state=np.random):\n",
    "        next_step_map = self.probability_map_builder.next_step_probability(current_i, current_j)\n",
    "        selection_map = self._compute_selection_map(next_step_map)\n",
    "\n",
    "        r = random_state.rand()\n",
    "        cumulative_map = np.cumsum(selection_map)\n",
    "        cumulative_map = cumulative_map.reshape(selection_map.shape)\n",
    "        i_next, j_next = np.argwhere(cumulative_map >= r)[0]\n",
    "\n",
    "        return i_next, j_next\n",
    "\n",
    "    def evaluate_position(self, current_i, current_j):\n",
    "        next_step_map = self.probability_map_builder.next_step_probability(current_i, current_j)\n",
    "        selection_map = self._compute_selection_map(next_step_map)\n",
    "        return selection_map[current_i, current_j]\n",
    "\n",
    "\n",
    "def plot_trajectory(trajectory, activation_map):\n",
    "    trajectory = np.asarray(trajectory)\n",
    "    plt.matshow(activation_map)\n",
    "    plt.plot(trajectory[:, 1], trajectory[:, 0])\n",
    "    plt.show()\n"
   ],
   "metadata": {
    "collapsed": false,
    "pycharm": {
     "name": "#%%\n"
    }
   }
  },
  {
   "cell_type": "code",
   "execution_count": 38,
   "outputs": [],
   "source": [
    "next_step_builder = RingNextStepBuilder(size=200, sigma_large=4, sigma_small=2)\n",
    "walker = Walker.from_activation_map_initializer(\n",
    "    size=200,\n",
    "    initializer=labyrinth_activation_map_initializer,\n",
    "    probability_map_builder=next_step_builder,\n",
    ")\n",
    "\n",
    "i, j = 100, 50\n",
    "trajectory = []\n",
    "for _ in range(1000):\n",
    "    i, j = walker.sample_next_step(i, j)\n",
    "    trajectory.append((i, j))"
   ],
   "metadata": {
    "collapsed": false,
    "pycharm": {
     "name": "#%%\n"
    }
   }
  },
  {
   "cell_type": "code",
   "execution_count": 39,
   "outputs": [
    {
     "data": {
      "text/plain": "<Figure size 288x288 with 1 Axes>",
      "image/png": "[encoded data removed]"
     },
     "metadata": {},
     "output_type": "display_data"
    }
   ],
   "source": [
    "plot_trajectory(trajectory, walker.activation_map)\n"
   ],
   "metadata": {
    "collapsed": false,
    "pycharm": {
     "name": "#%%\n"
    }
   }
  },
  {
   "cell_type": "code",
   "execution_count": null,
   "outputs": [],
   "source": [],
   "metadata": {
    "collapsed": false,
    "pycharm": {
     "name": "#%%\n"
    }
   }
  }
 ],
 "metadata": {
  "kernelspec": {
   "display_name": "Python 3",
   "language": "python",
   "name": "python3"
  },
  "language_info": {
   "codemirror_mode": {
    "name": "ipython",
    "version": 2
   },
   "file_extension": ".py",
   "mimetype": "text/x-python",
   "name": "python",
   "nbconvert_exporter": "python",
   "pygments_lexer": "ipython2",
   "version": "2.7.6"
  }
 },
 "nbformat": 4,
 "nbformat_minor": 0
}