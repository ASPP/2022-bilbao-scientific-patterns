{
 "cells": [
  {
   "cell_type": "code",
   "execution_count": 3,
   "metadata": {
    "collapsed": false,
    "pycharm": {
     "name": "#%%\n"
    }
   },
   "outputs": [],
   "source": [
    "%matplotlib inline\n",
    "\n",
    "import matplotlib.pyplot as plt\n",
    "import numpy as np"
   ]
  },
  {
   "cell_type": "code",
   "execution_count": 4,
   "metadata": {
    "collapsed": false,
    "pycharm": {
     "name": "#%%\n"
    }
   },
   "outputs": [],
   "source": [
    "# the activation map initialization varies independently from the class\n",
    "# we can now add a new activation map initialization without changing the code -> more\n",
    "# flexibility, extendability\n",
    "# ???\n",
    "# the example is a bit artificial\n",
    "\n",
    "# smells that remain\n",
    "# need to do the bookkeeping for i, j in case you want to create / simulate entire trajectories\n",
    "# changing the next step probability is going to be trouble\n",
    "\n",
    "\n",
    "class Walker:\n",
    "\n",
    "    def __init__(self, sigma_i, sigma_j, size, activation_map):\n",
    "        self.sigma_i = sigma_i\n",
    "        self.sigma_j = sigma_j\n",
    "        self.size = size\n",
    "        self.activation_map = activation_map\n",
    "\n",
    "        self._grid_ii, self._grid_jj = np.mgrid[0:size, 0:size]\n",
    "\n",
    "    @classmethod\n",
    "    def from_activation_map_type(cls, sigma_i, sigma_j, size, map_type):\n",
    "        if map_type == 'flat':\n",
    "            activation_map = np.ones((size, size))\n",
    "        elif map_type == 'hills':\n",
    "            grid_ii, grid_jj = np.mgrid[0:size, 0:size]\n",
    "            i_waves = np.sin(grid_ii/130) + np.sin(grid_ii/10)\n",
    "            i_waves /= i_waves.max()\n",
    "            j_waves = np.sin(grid_jj/100) + np.sin(grid_jj/50)+ np.sin(grid_jj/10)\n",
    "            j_waves /= j_waves.max()\n",
    "            activation_map = j_waves+i_waves\n",
    "        elif map_type == 'labyrinth':\n",
    "            activation_map = np.ones((size, size))\n",
    "            activation_map[50:100, 50:60] = 0\n",
    "            activation_map[20:89, 80:90] = 0\n",
    "            activation_map[90:120, 0:10] = 0\n",
    "            activation_map[120:size, 30:40] = 0\n",
    "            activation_map[180:190, 50:60] = 0\n",
    "\n",
    "            activation_map[50:60, 50:200] = 0\n",
    "            activation_map[179:189, 80:130] = 0\n",
    "            activation_map[110:120, 0:190] = 0\n",
    "            activation_map[120:size, 30:40] = 0\n",
    "            activation_map[180:190, 50:60] = 0\n",
    "        activation_map /= activation_map.sum()\n",
    "        return cls(sigma_i, sigma_j, size, activation_map)\n",
    "\n",
    "    def next_step_probability(self, current_i, current_j):\n",
    "        grid_ii, grid_jj = self._grid_ii, self._grid_jj\n",
    "        sigma_i, sigma_j = self.sigma_i, self.sigma_j\n",
    "\n",
    "        rad = (\n",
    "            (((grid_ii - current_i) ** 2) / (sigma_i ** 2))\n",
    "            + (((grid_jj - current_j) ** 2)/ (sigma_j ** 2))\n",
    "        )\n",
    "\n",
    "        p_next_step = np.exp(-(rad / 2.0)) / (2.0 * np.pi * sigma_i * sigma_j)\n",
    "        return p_next_step / p_next_step.sum()\n",
    "\n",
    "    def _compute_selection_map(self, next_step_map):\n",
    "        selection_map = next_step_map * self.activation_map\n",
    "        selection_map /= selection_map.sum()\n",
    "        return selection_map\n",
    "\n",
    "    def sample_next_step(self, current_i, current_j, random_state=np.random):\n",
    "        next_step_map = self.next_step_probability(current_i, current_j)\n",
    "        selection_map = self._compute_selection_map(next_step_map)\n",
    "\n",
    "        r = random_state.rand()\n",
    "        cumulative_map = np.cumsum(selection_map)\n",
    "        cumulative_map = cumulative_map.reshape(selection_map.shape)\n",
    "        i_next, j_next = np.argwhere(cumulative_map >= r)[0]\n",
    "\n",
    "        return i_next, j_next\n",
    "\n",
    "    def evaluate_position(self, current_i, current_j):\n",
    "        next_step_map = self.next_step_probability(current_i, current_j)\n",
    "        selection_map = self._compute_selection_map(next_step_map)\n",
    "        return selection_map[current_i, current_j]\n",
    "\n",
    "\n",
    "def plot_trajectory(trajectory, activation_map):\n",
    "    trajectory = np.asarray(trajectory)\n",
    "    plt.matshow(activation_map)\n",
    "    plt.plot(trajectory[:, 1], trajectory[:, 0])\n",
    "    plt.show()\n"
   ]
  },
  {
   "cell_type": "code",
   "execution_count": 6,
   "metadata": {
    "collapsed": false,
    "pycharm": {
     "name": "#%%\n"
    }
   },
   "outputs": [],
   "source": [
    "walker = Walker.from_activation_map_type(sigma_i=3, sigma_j=4, size=200, map_type='labyrinth')\n",
    "\n",
    "i, j = 100, 50\n",
    "trajectory = []\n",
    "for _ in range(1000):\n",
    "    i, j = walker.sample_next_step(i, j)\n",
    "    trajectory.append((i, j))"
   ]
  },
  {
   "cell_type": "code",
   "execution_count": 7,
   "metadata": {
    "collapsed": false,
    "pycharm": {
     "name": "#%%\n"
    }
   },
   "outputs": [
    {
     "data": {
      "image/png": "[encoded data removed]",
      "text/plain": [
       "<Figure size 288x288 with 1 Axes>"
      ]
     },
     "metadata": {},
     "output_type": "display_data"
    }
   ],
   "source": [
    "plot_trajectory(trajectory, walker.activation_map)\n"
   ]
  },
  {
   "cell_type": "code",
   "execution_count": null,
   "metadata": {
    "collapsed": false,
    "pycharm": {
     "name": "#%%\n"
    }
   },
   "outputs": [],
   "source": []
  }
 ],
 "metadata": {
  "hide_input": false,
  "kernelspec": {
   "display_name": "Python [default]",
   "language": "python",
   "name": "python3"
  },
  "language_info": {
   "codemirror_mode": {
    "name": "ipython",
    "version": 3
   },
   "file_extension": ".py",
   "mimetype": "text/x-python",
   "name": "python",
   "nbconvert_exporter": "python",
   "pygments_lexer": "ipython3",
   "version": "3.5.5"
  },
  "toc": {
   "nav_menu": {
    "height": "12px",
    "width": "252px"
   },
   "navigate_menu": true,
   "number_sections": true,
   "sideBar": true,
   "threshold": 4,
   "toc_cell": false,
   "toc_section_display": "block",
   "toc_window_display": false
  }
 },
 "nbformat": 4,
 "nbformat_minor": 0
}
