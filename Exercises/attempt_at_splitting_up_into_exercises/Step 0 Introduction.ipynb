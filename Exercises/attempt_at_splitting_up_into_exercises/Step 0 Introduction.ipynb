{
 "cells": [
  {
   "cell_type": "code",
   "execution_count": 1,
   "outputs": [],
   "source": [
    "%matplotlib inline\n",
    "\n",
    "import matplotlib.pyplot as plt\n",
    "import numpy as np\n"
   ],
   "metadata": {
    "collapsed": false,
    "pycharm": {
     "name": "#%%\n"
    }
   }
  },
  {
   "cell_type": "code",
   "execution_count": 31,
   "outputs": [],
   "source": [
    "def next_step_probability(current_i, current_j, sigma_i, sigma_j, size):\n",
    "    grid_ii, grid_jj = np.mgrid[0:size, 0:size]\n",
    "    rad = (\n",
    "        (((grid_ii - current_i) ** 2) / (sigma_i ** 2))\n",
    "        + (((grid_jj - current_j) ** 2)/ (sigma_j ** 2))\n",
    "    )\n",
    "\n",
    "    p_next_step = np.exp(-(rad / 2.0)) / (2.0 * np.pi * sigma_i * sigma_j)\n",
    "    return p_next_step / p_next_step.sum()\n",
    "\n",
    "\n",
    "def compute_selection_map(next_step_map, activation_map):\n",
    "    selection_map = next_step_map * activation_map\n",
    "    selection_map /= selection_map.sum()\n",
    "    return selection_map\n",
    "\n",
    "\n",
    "def sample_next_step(current_i, current_j, sigma_i, sigma_j, activation_map, random_state=np.random):\n",
    "    size = activation_map.shape[0]\n",
    "    next_step_map = next_step_probability(current_i, current_j, sigma_i, sigma_j, size)\n",
    "    selection_map = compute_selection_map(next_step_map, activation_map)\n",
    "\n",
    "    r = random_state.rand()\n",
    "    cumulative_map = np.cumsum(selection_map)\n",
    "    cumulative_map = cumulative_map.reshape(selection_map.shape)\n",
    "    i_next, j_next = np.argwhere(cumulative_map >= r)[0]\n",
    "\n",
    "    return i_next, j_next\n",
    "\n",
    "\n",
    "def evaluate_position(current_i, current_j, sigma_i, sigma_j, activation_map):\n",
    "    size = activation_map.shape[0]\n",
    "    next_step_map = next_step_probability(current_i, current_j, sigma_i, sigma_j, size)\n",
    "    selection_map = compute_selection_map(next_step_map, activation_map)\n",
    "    return selection_map[current_i, current_j]\n",
    "\n",
    "\n",
    "def create_activation_map(size, map_type='flat'):\n",
    "    if map_type == 'flat':\n",
    "        activation_map = np.ones((size, size))\n",
    "    elif map_type == 'hills':\n",
    "        grid_ii, grid_jj = np.mgrid[0:size, 0:size]\n",
    "        i_waves = np.sin(grid_ii/130) + np.sin(grid_ii/10)\n",
    "        i_waves /= i_waves.max()\n",
    "        j_waves = np.sin(grid_jj/100) + np.sin(grid_jj/50)+ np.sin(grid_jj/10)\n",
    "        j_waves /= j_waves.max()\n",
    "        activation_map = j_waves+i_waves\n",
    "    elif map_type == 'labyrinth':\n",
    "        activation_map = np.ones((size, size))\n",
    "        activation_map[50:100, 50:60] = 0\n",
    "        activation_map[20:89, 80:90] = 0\n",
    "        activation_map[90:120, 0:10] = 0\n",
    "        activation_map[120:size, 30:40] = 0\n",
    "        activation_map[180:190, 50:60] = 0\n",
    "\n",
    "        activation_map[50:60, 50:200] = 0\n",
    "        activation_map[179:189, 80:130] = 0\n",
    "        activation_map[110:120, 0:190] = 0\n",
    "        activation_map[120:size, 30:40] = 0\n",
    "        activation_map[180:190, 50:60] = 0\n",
    "    activation_map /= activation_map.sum()\n",
    "    return activation_map\n",
    "\n",
    "def plot_trajectory(trajectory, activation_map):\n",
    "    trajectory = np.asarray(trajectory)\n",
    "    plt.matshow(activation_map)\n",
    "    plt.plot(trajectory[:, 1], trajectory[:, 0])\n",
    "    plt.show()\n",
    "\n",
    "# smells\n",
    "# current_i, current_j, sigma_i, sigma_j needed all over the place\n",
    "# not efficient: mgrid calculated every time\n",
    "# defining the parameters of a run is tedious: define all the single variables\n",
    "# need to do the bookkeeping for i, j in case you want to create / simulate entire trajectories\n",
    "# changing the next step probability is going to be trouble\n",
    "# adding a new activation map requires adding a new piece to the code\n",
    "# what if map_type is not any of the 3?"
   ],
   "metadata": {
    "collapsed": false,
    "pycharm": {
     "name": "#%%\n"
    }
   }
  },
  {
   "cell_type": "code",
   "execution_count": 3,
   "outputs": [
    {
     "data": {
      "text/plain": "<matplotlib.image.AxesImage at 0x7fd019f55400>"
     },
     "execution_count": 3,
     "metadata": {},
     "output_type": "execute_result"
    },
    {
     "data": {
      "text/plain": "<Figure size 288x288 with 1 Axes>",
      "image/png": "[encoded data removed]"
     },
     "metadata": {},
     "output_type": "display_data"
    }
   ],
   "source": [
    "p_next_step = next_step_probability(100, 50, 10, 5, 200)\n",
    "plt.matshow(p_next_step)"
   ],
   "metadata": {
    "collapsed": false,
    "pycharm": {
     "name": "#%%\n"
    }
   }
  },
  {
   "cell_type": "code",
   "execution_count": 4,
   "outputs": [],
   "source": [
    "initial_act = np.ones((200, 200))\n",
    "initial_act[50:100, 50:60] = 0\n",
    "initial_act[20:89, 80:90] = 0\n",
    "initial_act[90:120, 0:10] = 0\n",
    "initial_act[120:200, 30:40] = 0\n",
    "initial_act[180:190, 50:60] = 0\n",
    "\n",
    "initial_act[50:60, 50:200] = 0\n",
    "initial_act[179:189, 80:130] = 0\n",
    "initial_act[110:120, 0:190] = 0\n",
    "initial_act[120:200, 30:40] = 0\n",
    "initial_act[180:190, 50:60] = 0"
   ],
   "metadata": {
    "collapsed": false,
    "pycharm": {
     "name": "#%%\n"
    }
   }
  },
  {
   "cell_type": "code",
   "execution_count": 5,
   "outputs": [
    {
     "data": {
      "text/plain": "<matplotlib.colorbar.Colorbar at 0x7fd01a0b43c8>"
     },
     "execution_count": 5,
     "metadata": {},
     "output_type": "execute_result"
    },
    {
     "data": {
      "text/plain": "<Figure size 288x288 with 2 Axes>",
      "image/png": "[encoded data removed]"
     },
     "metadata": {},
     "output_type": "display_data"
    }
   ],
   "source": [
    "plt.matshow(initial_act)\n",
    "plt.colorbar()"
   ],
   "metadata": {
    "collapsed": false,
    "pycharm": {
     "name": "#%%\n"
    }
   }
  },
  {
   "cell_type": "code",
   "execution_count": 27,
   "outputs": [
    {
     "data": {
      "text/plain": "<matplotlib.colorbar.Colorbar at 0x7fd01b79ceb8>"
     },
     "execution_count": 27,
     "metadata": {},
     "output_type": "execute_result"
    },
    {
     "data": {
      "text/plain": "<Figure size 288x288 with 2 Axes>",
      "image/png": "[encoded data removed]"
     },
     "metadata": {},
     "output_type": "display_data"
    }
   ],
   "source": [
    "activation_map = create_activation_map(150, 'labyrinth')\n",
    "plt.matshow(activation_map)\n",
    "plt.colorbar()"
   ],
   "metadata": {
    "collapsed": false,
    "pycharm": {
     "name": "#%%\n"
    }
   }
  },
  {
   "cell_type": "code",
   "execution_count": 28,
   "outputs": [],
   "source": [
    "i, j = 100, 50\n",
    "sigma_i, sigma_j = 3, 4\n",
    "size = 200\n",
    "activation_map = create_activation_map(size, 'labyrinth')\n",
    "\n",
    "trajectory = []\n",
    "for _ in range(1000):\n",
    "    i, j = sample_next_step(i, j, sigma_i, sigma_j, activation_map)\n",
    "    trajectory.append((i, j))"
   ],
   "metadata": {
    "collapsed": false,
    "pycharm": {
     "name": "#%%\n"
    }
   }
  },
  {
   "cell_type": "code",
   "execution_count": 32,
   "outputs": [
    {
     "data": {
      "text/plain": "<Figure size 288x288 with 1 Axes>",
      "image/png": "[encoded data removed]"
     },
     "metadata": {},
     "output_type": "display_data"
    }
   ],
   "source": [
    "plot_trajectory(trajectory, activation_map)\n"
   ],
   "metadata": {
    "collapsed": false,
    "pycharm": {
     "name": "#%%\n"
    }
   }
  },
  {
   "cell_type": "code",
   "execution_count": null,
   "outputs": [],
   "source": [],
   "metadata": {
    "collapsed": false,
    "pycharm": {
     "name": "#%%\n"
    }
   }
  }
 ],
 "metadata": {
  "kernelspec": {
   "display_name": "Python 3",
   "language": "python",
   "name": "python3"
  },
  "language_info": {
   "codemirror_mode": {
    "name": "ipython",
    "version": 2
   },
   "file_extension": ".py",
   "mimetype": "text/x-python",
   "name": "python",
   "nbconvert_exporter": "python",
   "pygments_lexer": "ipython2",
   "version": "2.7.6"
  }
 },
 "nbformat": 4,
 "nbformat_minor": 0
}