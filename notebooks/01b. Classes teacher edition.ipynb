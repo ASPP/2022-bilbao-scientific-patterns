{
 "cells": [
  {
   "cell_type": "markdown",
   "metadata": {},
   "source": [
    "# The smell of classes"
   ]
  },
  {
   "cell_type": "markdown",
   "metadata": {},
   "source": [
    "## The \"data bundle\" smell"
   ]
  },
  {
   "cell_type": "code",
   "execution_count": 1,
   "metadata": {
    "ExecuteTime": {
     "end_time": "2021-08-11T12:50:34.342224Z",
     "start_time": "2021-08-11T14:50:34.336560+02:00"
    },
    "collapsed": true
   },
   "outputs": [],
   "source": [
    "def momentum(mass, velocity):\n",
    "    return mass * velocity\n",
    "\n",
    "def energy(mass, velocity):\n",
    "    return 0.5 * mass * velocity ** 2\n",
    "\n",
    "def update_position(velocity, position, dt):\n",
    "    return position + velocity * dt"
   ]
  },
  {
   "cell_type": "code",
   "execution_count": 2,
   "metadata": {
    "ExecuteTime": {
     "end_time": "2021-08-11T12:50:34.776689Z",
     "start_time": "2021-08-11T14:50:34.769617+02:00"
    },
    "collapsed": false
   },
   "outputs": [
    {
     "name": "stdout",
     "output_type": "stream",
     "text": [
      "9.0\n",
      "1.2000000000000002\n",
      "1.0\n"
     ]
    }
   ],
   "source": [
    "# Naive\n",
    "mass1 = 10.0\n",
    "velocity1 = 0.9\n",
    "position1 = 0.0\n",
    "\n",
    "mass2 = 12.0\n",
    "velocity2 = 0.1\n",
    "position2 = -23.0\n",
    "\n",
    "print(momentum(mass1, velocity1))\n",
    "print(momentum(mass2, velocity2))\n",
    "print(momentum(mass1, velocity2))  # ??"
   ]
  },
  {
   "cell_type": "markdown",
   "metadata": {},
   "source": [
    "We have three parameters that will be sent to these functions over and over again: `mass`, `velocity`, and `position`.\n",
    "\n",
    "Moreover, the parameters cannot be mixed up (e.g. the velocity of one particle with the mass of another)."
   ]
  },
  {
   "cell_type": "code",
   "execution_count": null,
   "metadata": {
    "ExecuteTime": {
     "end_time": "2018-07-27T15:05:52.548364Z",
     "start_time": "2018-07-27T17:05:52.544726+02:00"
    },
    "collapsed": false
   },
   "outputs": [],
   "source": []
  },
  {
   "cell_type": "markdown",
   "metadata": {},
   "source": [
    "## Introducing classes as a data bundle template"
   ]
  },
  {
   "cell_type": "code",
   "execution_count": 61,
   "metadata": {
    "ExecuteTime": {
     "end_time": "2018-08-04T13:04:49.208543Z",
     "start_time": "2018-08-04T15:04:49.203180+02:00"
    },
    "collapsed": true
   },
   "outputs": [],
   "source": [
    "class Particle:\n",
    "    pass\n",
    "\n",
    "particle1 = Particle(10.0, 0.9)\n",
    "particle2 = Particle(12.0, 0.1, -23.0)"
   ]
  },
  {
   "cell_type": "markdown",
   "metadata": {},
   "source": [
    "## Class methods"
   ]
  },
  {
   "cell_type": "code",
   "execution_count": 21,
   "metadata": {
    "ExecuteTime": {
     "end_time": "2018-07-27T12:13:56.972938Z",
     "start_time": "2018-07-27T14:13:56.969323+02:00"
    },
    "collapsed": false
   },
   "outputs": [
    {
     "name": "stdout",
     "output_type": "stream",
     "text": [
      "9.0\n",
      "1.2000000000000002\n"
     ]
    }
   ],
   "source": [
    "def momentum(particle):\n",
    "    return particle.mass * particle.velocity\n",
    "\n",
    "print(momentum(particle1))\n",
    "print(momentum(particle2))"
   ]
  },
  {
   "cell_type": "code",
   "execution_count": 30,
   "metadata": {
    "ExecuteTime": {
     "end_time": "2018-07-27T14:17:07.513665Z",
     "start_time": "2018-07-27T16:17:07.507397+02:00"
    },
    "collapsed": false
   },
   "outputs": [
    {
     "name": "stdout",
     "output_type": "stream",
     "text": [
      "9.0\n"
     ]
    }
   ],
   "source": [
    "class Particle:\n",
    "    def __init__(self, mass, velocity, position=0.0):\n",
    "        self.mass = mass\n",
    "        self.velocity = velocity\n",
    "        self.position = position\n",
    "        \n",
    "    # Method here\n",
    "\n",
    "particle1 = Particle(10.0, 0.9, 0.0)\n",
    "print(particle1.momentum())"
   ]
  },
  {
   "cell_type": "markdown",
   "metadata": {},
   "source": [
    "We have been using class instances and methods all along..."
   ]
  },
  {
   "cell_type": "code",
   "execution_count": 54,
   "metadata": {
    "ExecuteTime": {
     "end_time": "2018-08-04T12:47:49.003978Z",
     "start_time": "2018-08-04T14:47:49.000195+02:00"
    },
    "collapsed": false
   },
   "outputs": [
    {
     "data": {
      "text/plain": [
       "'A scanner darkly'"
      ]
     },
     "execution_count": 54,
     "metadata": {},
     "output_type": "execute_result"
    }
   ],
   "source": [
    "s = 'A scanner Darkly'\n",
    "s.capitalize()"
   ]
  },
  {
   "cell_type": "code",
   "execution_count": 92,
   "metadata": {
    "ExecuteTime": {
     "end_time": "2018-08-04T13:18:03.108351Z",
     "start_time": "2018-08-04T15:18:03.104655+02:00"
    },
    "collapsed": false
   },
   "outputs": [
    {
     "data": {
      "text/plain": [
       "{'apple', 'banana', 'pineapple'}"
      ]
     },
     "execution_count": 92,
     "metadata": {},
     "output_type": "execute_result"
    }
   ],
   "source": [
    "x = set(['apple', 'banana', 'apple', 'pineapple'])\n",
    "x"
   ]
  },
  {
   "cell_type": "code",
   "execution_count": 91,
   "metadata": {
    "ExecuteTime": {
     "end_time": "2018-08-04T13:17:57.373622Z",
     "start_time": "2018-08-04T15:17:57.369638+02:00"
    },
    "collapsed": false
   },
   "outputs": [
    {
     "data": {
      "text/plain": [
       "{'apple', 'banana', 'kiwi', 'pineapple'}"
      ]
     },
     "execution_count": 91,
     "metadata": {},
     "output_type": "execute_result"
    }
   ],
   "source": [
    "x.union(['banana', 'kiwi'])"
   ]
  },
  {
   "cell_type": "markdown",
   "metadata": {},
   "source": [
    "## Hands-on: Turn the walker code into a class\n",
    "\n",
    "Submit a PR for Issue #1 on GitHub.\n",
    "\n",
    "1) Have a look at the \"Hands-on Walker Step 0\" notebook\n",
    "\n",
    "2) Create a copy of the notebook, and group things that belong together by writing a `Walker` class!"
   ]
  },
  {
   "cell_type": "code",
   "execution_count": null,
   "metadata": {
    "collapsed": true
   },
   "outputs": [],
   "source": []
  }
 ],
 "metadata": {
  "hide_input": false,
  "kernelspec": {
   "display_name": "Python [conda env:scratch]",
   "language": "python",
   "name": "conda-env-scratch-py"
  },
  "language_info": {
   "codemirror_mode": {
    "name": "ipython",
    "version": 3
   },
   "file_extension": ".py",
   "mimetype": "text/x-python",
   "name": "python",
   "nbconvert_exporter": "python",
   "pygments_lexer": "ipython3",
   "version": "3.5.5"
  },
  "toc": {
   "nav_menu": {
    "height": "174px",
    "width": "252px"
   },
   "navigate_menu": true,
   "number_sections": true,
   "sideBar": true,
   "threshold": 4,
   "toc_cell": false,
   "toc_position": {
    "height": "953px",
    "left": "0px",
    "right": "1253px",
    "top": "127px",
    "width": "320px"
   },
   "toc_section_display": "block",
   "toc_window_display": false
  }
 },
 "nbformat": 4,
 "nbformat_minor": 2
}
